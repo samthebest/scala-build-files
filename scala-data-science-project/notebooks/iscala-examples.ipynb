{
 "metadata": {
  "kernelspec": {
   "codemirror_mode": {
    "mode": "clike",
    "name": "text/x-scala"
   },
   "display_name": "IScala (Scala 2.11)",
   "language": "scala",
   "name": "iscala-2.11"
  },
  "name": "",
  "signature": "sha256:5f1b18c5da7442160c3b168408bc5ef10f609d42a6e8e3e17d85ff1652796c6c"
 },
 "nbformat": 3,
 "nbformat_minor": 0,
 "worksheets": [
  {
   "cells": [
    {
     "cell_type": "code",
     "collapsed": false,
     "input": [
      "%libraryDependencies += \"com.scalatags\" %% \"scalatags\" % \"0.4.1\""
     ],
     "language": "python",
     "metadata": {},
     "outputs": [
      {
       "output_type": "stream",
       "stream": "stdout",
       "text": []
      },
      {
       "output_type": "stream",
       "stream": "stdout",
       "text": []
      }
     ],
     "prompt_number": 1
    },
    {
     "cell_type": "code",
     "collapsed": false,
     "input": [
      "%libraryDependencies += \"io.continuum.bokeh\" %% \"bokeh\" % \"0.2\""
     ],
     "language": "python",
     "metadata": {},
     "outputs": [
      {
       "output_type": "stream",
       "stream": "stdout",
       "text": []
      },
      {
       "output_type": "stream",
       "stream": "stdout",
       "text": []
      }
     ],
     "prompt_number": 2
    },
    {
     "cell_type": "code",
     "collapsed": false,
     "input": [
      "%libraryDependencies += \"org.jfree\" % \"jfreechart\" % \"1.0.19\""
     ],
     "language": "python",
     "metadata": {},
     "outputs": [
      {
       "output_type": "stream",
       "stream": "stdout",
       "text": []
      },
      {
       "output_type": "stream",
       "stream": "stdout",
       "text": []
      }
     ],
     "prompt_number": 3
    },
    {
     "cell_type": "code",
     "collapsed": false,
     "input": [
      "%update"
     ],
     "language": "python",
     "metadata": {},
     "outputs": [
      {
       "output_type": "stream",
       "stream": "stdout",
       "text": [
        "\u001b[0m[\u001b[0minfo\u001b[0m] \u001b[0mResolving com.scalatags#scalatags_2.11;0.4.1 ...\u001b[0m\n"
       ]
      },
      {
       "output_type": "stream",
       "stream": "stdout",
       "text": [
        "\u001b[0m[\u001b[0minfo\u001b[0m] \u001b[0mResolving org.scala-lang#scala-library;2.11.2 ...\u001b[0m\n",
        "\u001b[0m[\u001b[0minfo\u001b[0m] \u001b[0mResolving io.continuum.bokeh#bokeh_2.11;0.2 ...\u001b[0m\n"
       ]
      },
      {
       "output_type": "stream",
       "stream": "stdout",
       "text": [
        "\u001b[0m[\u001b[0minfo\u001b[0m] \u001b[0mResolving io.continuum.bokeh#core_2.11;0.2 ...\u001b[0m\n",
        "\u001b[0m[\u001b[0minfo\u001b[0m] \u001b[0mResolving org.scala-lang#scala-reflect;2.11.2 ...\u001b[0m\n",
        "\u001b[0m[\u001b[0minfo\u001b[0m] \u001b[0mResolving com.typesafe.play#play-json_2.11;2.4.0-M1 ...\u001b[0m\n",
        "\u001b[0m[\u001b[0minfo\u001b[0m] \u001b[0mResolving com.typesafe.play#play-iteratees_2.11;2.4.0-M1 ...\u001b[0m\n",
        "\u001b[0m[\u001b[0minfo\u001b[0m] \u001b[0mResolving org.scala-stm#scala-stm_2.11;0.7 ...\u001b[0m\n",
        "\u001b[0m[\u001b[0minfo\u001b[0m] \u001b[0mResolving com.typesafe#config;1.2.1 ...\u001b[0m\n",
        "\u001b[0m[\u001b[0minfo\u001b[0m] \u001b[0mResolving com.typesafe.play#play-functional_2.11;2.4.0-M1 ...\u001b[0m\n"
       ]
      },
      {
       "output_type": "stream",
       "stream": "stdout",
       "text": [
        "\u001b[0m[\u001b[0minfo\u001b[0m] \u001b[0mResolving com.typesafe.play#play-datacommons_2.11;2.4.0-M1 ...\u001b[0m\n"
       ]
      },
      {
       "output_type": "stream",
       "stream": "stdout",
       "text": [
        "\u001b[0m[\u001b[0minfo\u001b[0m] \u001b[0mResolving joda-time#joda-time;2.3 ...\u001b[0m\n"
       ]
      },
      {
       "output_type": "stream",
       "stream": "stdout",
       "text": [
        "\u001b[0m[\u001b[0minfo\u001b[0m] \u001b[0mResolving org.joda#joda-convert;1.6 ...\u001b[0m\n"
       ]
      },
      {
       "output_type": "stream",
       "stream": "stdout",
       "text": [
        "\u001b[0m[\u001b[0minfo\u001b[0m] \u001b[0mResolving com.fasterxml.jackson.core#jackson-core;2.3.2 ...\u001b[0m\n",
        "\u001b[0m[\u001b[0minfo\u001b[0m] \u001b[0mResolving com.fasterxml.jackson.core#jackson-annotations;2.3.2 ...\u001b[0m\n"
       ]
      },
      {
       "output_type": "stream",
       "stream": "stdout",
       "text": [
        "\u001b[0m[\u001b[0minfo\u001b[0m] \u001b[0mResolving com.fasterxml.jackson.core#jackson-databind;2.3.2 ...\u001b[0m\n"
       ]
      },
      {
       "output_type": "stream",
       "stream": "stdout",
       "text": [
        "\u001b[0m[\u001b[0minfo\u001b[0m] \u001b[0mResolving io.continuum.bokeh#bokehjs_2.11;0.2 ...\u001b[0m\n"
       ]
      },
      {
       "output_type": "stream",
       "stream": "stdout",
       "text": [
        "\u001b[0m[\u001b[0minfo\u001b[0m] \u001b[0mResolving com.github.scala-incubator.io#scala-io-core_2.11;0.4.3 ...\u001b[0m\n",
        "\u001b[0m[\u001b[0minfo\u001b[0m] \u001b[0mResolving org.scala-lang.modules#scala-parser-combinators_2.11;1.0.1 ...\u001b[0m\n",
        "\u001b[0m[\u001b[0minfo\u001b[0m] \u001b[0mResolving com.madgag#scala-arm_2.11;1.3.3 ...\u001b[0m\n",
        "\u001b[0m[\u001b[0minfo\u001b[0m] \u001b[0mResolving org.scala-lang.plugins#scala-continuations-library_2.11;1.0.1 ...\u001b[0m\n",
        "\u001b[0m[\u001b[0minfo\u001b[0m] \u001b[0mResolving com.github.scala-incubator.io#scala-io-file_2.11;0.4.3 ...\u001b[0m\n",
        "\u001b[0m[\u001b[0minfo\u001b[0m] \u001b[0mResolving org.scala-lang.modules#scala-xml_2.11;1.0.2 ...\u001b[0m\n",
        "\u001b[0m[\u001b[0minfo\u001b[0m] \u001b[0mResolving org.scalanlp#breeze_2.11;0.8.1 ...\u001b[0m\n"
       ]
      },
      {
       "output_type": "stream",
       "stream": "stdout",
       "text": [
        "\u001b[0m[\u001b[0minfo\u001b[0m] \u001b[0mResolving org.scalanlp#breeze-macros_2.11;0.3.1 ...\u001b[0m\n",
        "\u001b[0m[\u001b[0minfo\u001b[0m] \u001b[0mResolving com.github.fommil.netlib#core;1.1.2 ...\u001b[0m\n",
        "\u001b[0m[\u001b[0minfo\u001b[0m] \u001b[0mResolving net.sourceforge.f2j#arpack_combined_all;0.1 ...\u001b[0m\n",
        "\u001b[0m[\u001b[0minfo\u001b[0m] \u001b[0mResolving net.sf.opencsv#opencsv;2.3 ...\u001b[0m\n",
        "\u001b[0m[\u001b[0minfo\u001b[0m] \u001b[0mResolving com.github.rwl#jtransforms;2.4.0 ...\u001b[0m\n",
        "\u001b[0m[\u001b[0minfo\u001b[0m] \u001b[0mResolving junit#junit;4.8.2 ...\u001b[0m\n",
        "\u001b[0m[\u001b[0minfo\u001b[0m] \u001b[0mResolving org.apache.commons#commons-math3;3.2 ...\u001b[0m\n",
        "\u001b[0m[\u001b[0minfo\u001b[0m] \u001b[0mResolving org.spire-math#spire_2.11;0.7.4 ...\u001b[0m\n",
        "\u001b[0m[\u001b[0minfo\u001b[0m] \u001b[0mResolving org.spire-math#spire-macros_2.11;0.7.4 ...\u001b[0m\n",
        "\u001b[0m[\u001b[0minfo\u001b[0m] \u001b[0mResolving com.typesafe.scala-logging#scala-logging-slf4j_2.11;2.1.2 ...\u001b[0m\n",
        "\u001b[0m[\u001b[0minfo\u001b[0m] \u001b[0mResolving com.typesafe.scala-logging#scala-logging-api_2.11;2.1.2 ...\u001b[0m\n",
        "\u001b[0m[\u001b[0minfo\u001b[0m] \u001b[0mResolving org.slf4j#slf4j-api;1.7.7 ...\u001b[0m\n",
        "\u001b[0m[\u001b[0minfo\u001b[0m] \u001b[0mResolving org.jfree#jfreechart;1.0.19 ...\u001b[0m\n",
        "\u001b[0m[\u001b[0minfo\u001b[0m] \u001b[0mResolving org.sonatype.oss#oss-parent;9 ...\u001b[0m\n",
        "\u001b[0m[\u001b[0minfo\u001b[0m] \u001b[0mResolving org.jfree#jcommon;1.0.23 ...\u001b[0m\n",
        "\u001b[0m[\u001b[0minfo\u001b[0m] \u001b[0mResolving org.sonatype.oss#oss-parent;9 ...\u001b[0m\n",
        "\u001b[0m[\u001b[0minfo\u001b[0m] \u001b[0mdownloading https://repo1.maven.org/maven2/com/scalatags/scalatags_2.11/0.4.1/scalatags_2.11-0.4.1.jar ...\u001b[0m\n"
       ]
      },
      {
       "output_type": "stream",
       "stream": "stdout",
       "text": [
        "\u001b[0m[\u001b[0minfo\u001b[0m] \u001b[0m\t[SUCCESSFUL ] com.scalatags#scalatags_2.11;0.4.1!scalatags_2.11.jar (206ms)\u001b[0m\n",
        "\u001b[0m[\u001b[0minfo\u001b[0m] \u001b[0mdownloading https://repo1.maven.org/maven2/io/continuum/bokeh/bokeh_2.11/0.2/bokeh_2.11-0.2.jar ...\u001b[0m\n",
        "\u001b[0m[\u001b[0minfo\u001b[0m] \u001b[0m\t[SUCCESSFUL ] io.continuum.bokeh#bokeh_2.11;0.2!bokeh_2.11.jar (315ms)\u001b[0m\n",
        "\u001b[0m[\u001b[0minfo\u001b[0m] \u001b[0mdownloading https://repo1.maven.org/maven2/org/jfree/jfreechart/1.0.19/jfreechart-1.0.19.jar ...\u001b[0m\n",
        "\u001b[0m[\u001b[0minfo\u001b[0m] \u001b[0m\t[SUCCESSFUL ] org.jfree#jfreechart;1.0.19!jfreechart.jar (133ms)\u001b[0m\n",
        "\u001b[0m[\u001b[0minfo\u001b[0m] \u001b[0mdownloading https://repo1.maven.org/maven2/org/scala-lang/scala-library/2.11.2/scala-library-2.11.2.jar ...\u001b[0m\n",
        "\u001b[0m[\u001b[0minfo\u001b[0m] \u001b[0m\t[SUCCESSFUL ] org.scala-lang#scala-library;2.11.2!scala-library.jar (377ms)\u001b[0m\n",
        "\u001b[0m[\u001b[0minfo\u001b[0m] \u001b[0mdownloading https://repo1.maven.org/maven2/io/continuum/bokeh/core_2.11/0.2/core_2.11-0.2.jar ...\u001b[0m\n",
        "\u001b[0m[\u001b[0minfo\u001b[0m] \u001b[0m\t[SUCCESSFUL ] io.continuum.bokeh#core_2.11;0.2!core_2.11.jar (87ms)\u001b[0m\n",
        "\u001b[0m[\u001b[0minfo\u001b[0m] \u001b[0mdownloading https://repo1.maven.org/maven2/io/continuum/bokeh/bokehjs_2.11/0.2/bokehjs_2.11-0.2.jar ...\u001b[0m\n"
       ]
      },
      {
       "output_type": "stream",
       "stream": "stdout",
       "text": [
        "\u001b[0m[\u001b[0minfo\u001b[0m] \u001b[0m\t[SUCCESSFUL ] io.continuum.bokeh#bokehjs_2.11;0.2!bokehjs_2.11.jar (282ms)\u001b[0m\n",
        "\u001b[0m[\u001b[0minfo\u001b[0m] \u001b[0mdownloading https://repo1.maven.org/maven2/org/scalanlp/breeze_2.11/0.8.1/breeze_2.11-0.8.1.jar ...\u001b[0m\n",
        "\u001b[0m[\u001b[0minfo\u001b[0m] \u001b[0m\t[SUCCESSFUL ] org.scalanlp#breeze_2.11;0.8.1!breeze_2.11.jar (749ms)\u001b[0m\n",
        "\u001b[0m[\u001b[0minfo\u001b[0m] \u001b[0mdownloading https://repo1.maven.org/maven2/com/typesafe/play/play-json_2.11/2.4.0-M1/play-json_2.11-2.4.0-M1.jar ...\u001b[0m\n",
        "\u001b[0m[\u001b[0minfo\u001b[0m] \u001b[0m\t[SUCCESSFUL ] com.typesafe.play#play-json_2.11;2.4.0-M1!play-json_2.11.jar (58ms)\u001b[0m\n",
        "\u001b[0m[\u001b[0minfo\u001b[0m] \u001b[0mdownloading https://repo1.maven.org/maven2/com/typesafe/play/play-iteratees_2.11/2.4.0-M1/play-iteratees_2.11-2.4.0-M1.jar ...\u001b[0m\n"
       ]
      },
      {
       "output_type": "stream",
       "stream": "stdout",
       "text": [
        "\u001b[0m[\u001b[0minfo\u001b[0m] \u001b[0m\t[SUCCESSFUL ] com.typesafe.play#play-iteratees_2.11;2.4.0-M1!play-iteratees_2.11.jar (71ms)\u001b[0m\n",
        "\u001b[0m[\u001b[0minfo\u001b[0m] \u001b[0mdownloading https://repo1.maven.org/maven2/com/typesafe/play/play-functional_2.11/2.4.0-M1/play-functional_2.11-2.4.0-M1.jar ...\u001b[0m\n"
       ]
      },
      {
       "output_type": "stream",
       "stream": "stdout",
       "text": [
        "\u001b[0m[\u001b[0minfo\u001b[0m] \u001b[0m\t[SUCCESSFUL ] com.typesafe.play#play-functional_2.11;2.4.0-M1!play-functional_2.11.jar (47ms)\u001b[0m\n",
        "\u001b[0m[\u001b[0minfo\u001b[0m] \u001b[0mdownloading https://repo1.maven.org/maven2/com/typesafe/play/play-datacommons_2.11/2.4.0-M1/play-datacommons_2.11-2.4.0-M1.jar ...\u001b[0m\n",
        "\u001b[0m[\u001b[0minfo\u001b[0m] \u001b[0m\t[SUCCESSFUL ] com.typesafe.play#play-datacommons_2.11;2.4.0-M1!play-datacommons_2.11.jar (17ms)\u001b[0m\n",
        "\u001b[0m[\u001b[0minfo\u001b[0m] \u001b[0mdownloading https://repo1.maven.org/maven2/org/scalanlp/breeze-macros_2.11/0.3.1/breeze-macros_2.11-0.3.1.jar ...\u001b[0m\n"
       ]
      },
      {
       "output_type": "stream",
       "stream": "stdout",
       "text": [
        "\u001b[0m[\u001b[0minfo\u001b[0m] \u001b[0m\t[SUCCESSFUL ] org.scalanlp#breeze-macros_2.11;0.3.1!breeze-macros_2.11.jar (26ms)\u001b[0m\n",
        "\u001b[0m[\u001b[0minfo\u001b[0m] \u001b[0mdownloading https://repo1.maven.org/maven2/com/typesafe/scala-logging/scala-logging-slf4j_2.11/2.1.2/scala-logging-slf4j_2.11-2.1.2.jar ...\u001b[0m\n",
        "\u001b[0m[\u001b[0minfo\u001b[0m] \u001b[0m\t[SUCCESSFUL ] com.typesafe.scala-logging#scala-logging-slf4j_2.11;2.1.2!scala-logging-slf4j_2.11.jar (19ms)\u001b[0m\n",
        "\u001b[0m[\u001b[0minfo\u001b[0m] \u001b[0mdownloading https://repo1.maven.org/maven2/com/typesafe/scala-logging/scala-logging-api_2.11/2.1.2/scala-logging-api_2.11-2.1.2.jar ...\u001b[0m\n"
       ]
      },
      {
       "output_type": "stream",
       "stream": "stdout",
       "text": [
        "\u001b[0m[\u001b[0minfo\u001b[0m] \u001b[0m\t[SUCCESSFUL ] com.typesafe.scala-logging#scala-logging-api_2.11;2.1.2!scala-logging-api_2.11.jar (14ms)\u001b[0m\n",
        "\u001b[0m[\u001b[0minfo\u001b[0m] \u001b[0mdownloading https://repo1.maven.org/maven2/org/jfree/jcommon/1.0.23/jcommon-1.0.23.jar ...\u001b[0m\n",
        "\u001b[0m[\u001b[0minfo\u001b[0m] \u001b[0m\t[SUCCESSFUL ] org.jfree#jcommon;1.0.23!jcommon.jar (40ms)\u001b[0m\n"
       ]
      },
      {
       "output_type": "stream",
       "stream": "stdout",
       "text": []
      },
      {
       "output_type": "stream",
       "stream": "stdout",
       "text": []
      }
     ],
     "prompt_number": 4
    },
    {
     "cell_type": "code",
     "collapsed": false,
     "input": [
      "<div style=\"color: red\">XXX</div>"
     ],
     "language": "python",
     "metadata": {},
     "outputs": [
      {
       "output_type": "stream",
       "stream": "stdout",
       "text": []
      },
      {
       "output_type": "stream",
       "stream": "stdout",
       "text": []
      },
      {
       "html": [
        "<div style=\"color: red\">XXX</div>"
       ],
       "metadata": {},
       "output_type": "pyout",
       "prompt_number": 5,
       "text": [
        "<div style=\"color: red\">XXX</div>"
       ]
      }
     ],
     "prompt_number": 5
    },
    {
     "cell_type": "code",
     "collapsed": false,
     "input": [
      "import scalatags.Text.all._"
     ],
     "language": "python",
     "metadata": {},
     "outputs": [
      {
       "output_type": "stream",
       "stream": "stdout",
       "text": []
      },
      {
       "output_type": "stream",
       "stream": "stdout",
       "text": []
      }
     ],
     "prompt_number": 6
    },
    {
     "cell_type": "code",
     "collapsed": false,
     "input": [
      "div(style:=\"color: red\", \"XXX\")"
     ],
     "language": "python",
     "metadata": {},
     "outputs": [
      {
       "output_type": "stream",
       "stream": "stdout",
       "text": []
      },
      {
       "output_type": "stream",
       "stream": "stdout",
       "text": []
      },
      {
       "metadata": {},
       "output_type": "pyout",
       "prompt_number": 7,
       "text": [
        "<div style=\"color: red\">XXX</div>"
       ]
      }
     ],
     "prompt_number": 7
    },
    {
     "cell_type": "code",
     "collapsed": false,
     "input": [
      "implicit val HTMLTypedTag = org.refptr.iscala.display.HTMLDisplay[scalatags.Text.TypedTag[String]](_.toString)"
     ],
     "language": "python",
     "metadata": {},
     "outputs": [
      {
       "output_type": "stream",
       "stream": "stdout",
       "text": []
      },
      {
       "output_type": "stream",
       "stream": "stdout",
       "text": []
      },
      {
       "metadata": {},
       "output_type": "pyout",
       "prompt_number": 8,
       "text": [
        "org.refptr.iscala.display.HTMLDisplay$$anon$2@51c3767b"
       ]
      }
     ],
     "prompt_number": 8
    },
    {
     "cell_type": "code",
     "collapsed": false,
     "input": [
      "div(style:=\"color: red\", \"XXX\")"
     ],
     "language": "python",
     "metadata": {},
     "outputs": [
      {
       "output_type": "stream",
       "stream": "stdout",
       "text": []
      },
      {
       "output_type": "stream",
       "stream": "stdout",
       "text": []
      },
      {
       "html": [
        "<div style=\"color: red\">XXX</div>"
       ],
       "metadata": {},
       "output_type": "pyout",
       "prompt_number": 9,
       "text": [
        "<div style=\"color: red\">XXX</div>"
       ]
      }
     ],
     "prompt_number": 9
    },
    {
     "cell_type": "code",
     "collapsed": false,
     "input": [
      "<table>\n",
      "  <tr>\n",
      "    <th>Header 1</th>\n",
      "    <th>Header 2</th>\n",
      "  </tr>\n",
      "  <tr>\n",
      "    <td>row 1, cell 1</td>\n",
      "    <td>row 1, cell 2</td>\n",
      "  </tr>\n",
      "  <tr>\n",
      "    <td>row 2, cell 1</td>\n",
      "    <td>row 2, cell 2</td>\n",
      "  </tr>\n",
      "</table>"
     ],
     "language": "python",
     "metadata": {},
     "outputs": [
      {
       "output_type": "stream",
       "stream": "stdout",
       "text": []
      },
      {
       "output_type": "stream",
       "stream": "stdout",
       "text": []
      },
      {
       "html": [
        "<table>\n",
        "  <tr>\n",
        "    <th>Header 1</th>\n",
        "    <th>Header 2</th>\n",
        "  </tr>\n",
        "  <tr>\n",
        "    <td>row 1, cell 1</td>\n",
        "    <td>row 1, cell 2</td>\n",
        "  </tr>\n",
        "  <tr>\n",
        "    <td>row 2, cell 1</td>\n",
        "    <td>row 2, cell 2</td>\n",
        "  </tr>\n",
        "</table>"
       ],
       "metadata": {},
       "output_type": "pyout",
       "prompt_number": 10,
       "text": [
        "<table>\n",
        "  <tr>\n",
        "    <th>Header 1</th>\n",
        "    <th>Header 2</th>\n",
        "  </tr>\n",
        "  <tr>\n",
        "    <td>row 1, cell 1</td>\n",
        "    <td>row 1, cell 2</td>\n",
        "  </tr>\n",
        "  <tr>\n",
        "    <td>row 2, cell 1</td>\n",
        "    <td>row 2, cell 2</td>\n",
        "  </tr>\n",
        "</table>"
       ]
      }
     ],
     "prompt_number": 10
    },
    {
     "cell_type": "code",
     "collapsed": false,
     "input": [
      "org.refptr.iscala.display.Math(\"\"\"F(k) = \\int_{-\\infty}^{\\infty} f(x) e^{2\\pi i k} dx\"\"\")"
     ],
     "language": "python",
     "metadata": {},
     "outputs": [
      {
       "output_type": "stream",
       "stream": "stdout",
       "text": []
      },
      {
       "output_type": "stream",
       "stream": "stdout",
       "text": []
      },
      {
       "latex": [
        "$$F(k) = \\int_{-\\infty}^{\\infty} f(x) e^{2\\pi i k} dx$$"
       ],
       "metadata": {},
       "output_type": "pyout",
       "prompt_number": 11,
       "text": [
        "Math(F(k) = \\int_{-\\infty}^{\\infty} f(x) e^{2\\pi i k} dx)"
       ]
      }
     ],
     "prompt_number": 11
    },
    {
     "cell_type": "code",
     "collapsed": false,
     "input": [
      "org.refptr.iscala.display.Latex(\"\"\"\n",
      "\\begin{eqnarray}\n",
      "\\nabla \\times \\vec{\\mathbf{B}} -\\, \\frac1c\\, \\frac{\\partial\\vec{\\mathbf{E}}}{\\partial t} & = \\frac{4\\pi}{c}\\vec{\\mathbf{j}} \\\\\n",
      "\\nabla \\cdot \\vec{\\mathbf{E}} & = 4 \\pi \\rho \\\\\n",
      "\\nabla \\times \\vec{\\mathbf{E}}\\, +\\, \\frac1c\\, \\frac{\\partial\\vec{\\mathbf{B}}}{\\partial t} & = \\vec{\\mathbf{0}} \\\\\n",
      "\\nabla \\cdot \\vec{\\mathbf{B}} & = 0 \n",
      "\\end{eqnarray}\n",
      "\"\"\")"
     ],
     "language": "python",
     "metadata": {},
     "outputs": [
      {
       "output_type": "stream",
       "stream": "stdout",
       "text": []
      },
      {
       "output_type": "stream",
       "stream": "stdout",
       "text": []
      },
      {
       "latex": [
        "\n",
        "\\begin{eqnarray}\n",
        "\\nabla \\times \\vec{\\mathbf{B}} -\\, \\frac1c\\, \\frac{\\partial\\vec{\\mathbf{E}}}{\\partial t} & = \\frac{4\\pi}{c}\\vec{\\mathbf{j}} \\\\\n",
        "\\nabla \\cdot \\vec{\\mathbf{E}} & = 4 \\pi \\rho \\\\\n",
        "\\nabla \\times \\vec{\\mathbf{E}}\\, +\\, \\frac1c\\, \\frac{\\partial\\vec{\\mathbf{B}}}{\\partial t} & = \\vec{\\mathbf{0}} \\\\\n",
        "\\nabla \\cdot \\vec{\\mathbf{B}} & = 0 \n",
        "\\end{eqnarray}\n"
       ],
       "metadata": {},
       "output_type": "pyout",
       "prompt_number": 12,
       "text": [
        "Latex(\n",
        "\\begin{eqnarray}\n",
        "\\nabla \\times \\vec{\\mathbf{B}} -\\, \\frac1c\\, \\frac{\\partial\\vec{\\mathbf{E}}}{\\partial t} & = \\frac{4\\pi}{c}\\vec{\\mathbf{j}} \\\\\n",
        "\\nabla \\cdot \\vec{\\mathbf{E}} & = 4 \\pi \\rho \\\\\n",
        "\\nabla \\times \\vec{\\mathbf{E}}\\, +\\, \\frac1c\\, \\frac{\\partial\\vec{\\mathbf{B}}}{\\partial t} & = \\vec{\\mathbf{0}} \\\\\n",
        "\\nabla \\cdot \\vec{\\mathbf{B}} & = 0 \n",
        "\\end{eqnarray}\n",
        ")"
       ]
      }
     ],
     "prompt_number": 12
    },
    {
     "cell_type": "code",
     "collapsed": false,
     "input": [
      "org.refptr.iscala.display.ImageURL(\"http://scala-lang.org/resources/img/smooth-spiral.png\", 100, 200)"
     ],
     "language": "python",
     "metadata": {},
     "outputs": [
      {
       "output_type": "stream",
       "stream": "stdout",
       "text": []
      },
      {
       "output_type": "stream",
       "stream": "stdout",
       "text": []
      },
      {
       "html": [
        "<img src=\"http://scala-lang.org/resources/img/smooth-spiral.png\" width=\"100\" height=\"200\"></img>"
       ],
       "metadata": {},
       "output_type": "pyout",
       "prompt_number": 13,
       "text": [
        "ImageURL(http://scala-lang.org/resources/img/smooth-spiral.png,Some(100),Some(200))"
       ]
      }
     ],
     "prompt_number": 13
    },
    {
     "cell_type": "code",
     "collapsed": false,
     "input": [
      "org.refptr.iscala.display.YouTubeVideo(\"1j_HxD4iLn8\")"
     ],
     "language": "python",
     "metadata": {},
     "outputs": [
      {
       "output_type": "stream",
       "stream": "stdout",
       "text": []
      },
      {
       "output_type": "stream",
       "stream": "stdout",
       "text": []
      },
      {
       "html": [
        "<iframe width=\"400\" height=\"300\" src=\"https://www.youtube.com/embed/1j_HxD4iLn8\" frameborder=\"0\" allowfullscreen=\"allowfullscreen\"></iframe>"
       ],
       "metadata": {},
       "output_type": "pyout",
       "prompt_number": 14,
       "text": [
        "YouTubeVideo(1j_HxD4iLn8,400,300)"
       ]
      }
     ],
     "prompt_number": 14
    },
    {
     "cell_type": "code",
     "collapsed": false,
     "input": [
      "Nil"
     ],
     "language": "python",
     "metadata": {},
     "outputs": [
      {
       "output_type": "stream",
       "stream": "stdout",
       "text": []
      },
      {
       "output_type": "stream",
       "stream": "stdout",
       "text": []
      },
      {
       "metadata": {},
       "output_type": "pyout",
       "prompt_number": 15,
       "text": [
        "List()"
       ]
      }
     ],
     "prompt_number": 15
    },
    {
     "cell_type": "code",
     "collapsed": false,
     "input": [
      "implicit val PlainNil = org.refptr.iscala.display.PlainDisplay[Nil.type](_ => \"Nil\")"
     ],
     "language": "python",
     "metadata": {},
     "outputs": [
      {
       "output_type": "stream",
       "stream": "stdout",
       "text": []
      },
      {
       "output_type": "stream",
       "stream": "stdout",
       "text": []
      },
      {
       "metadata": {},
       "output_type": "pyout",
       "prompt_number": 16,
       "text": [
        "org.refptr.iscala.display.PlainDisplay$$anon$1@2a536434"
       ]
      }
     ],
     "prompt_number": 16
    },
    {
     "cell_type": "code",
     "collapsed": false,
     "input": [
      "Nil"
     ],
     "language": "python",
     "metadata": {},
     "outputs": [
      {
       "output_type": "stream",
       "stream": "stdout",
       "text": []
      },
      {
       "output_type": "stream",
       "stream": "stdout",
       "text": []
      },
      {
       "metadata": {},
       "output_type": "pyout",
       "prompt_number": 17,
       "text": [
        "Nil"
       ]
      }
     ],
     "prompt_number": 17
    },
    {
     "cell_type": "code",
     "collapsed": false,
     "input": [
      "implicit val PlainNil = org.refptr.iscala.display.PlainDisplay[Nil.type](_ => \"NIL\")"
     ],
     "language": "python",
     "metadata": {},
     "outputs": [
      {
       "output_type": "stream",
       "stream": "stdout",
       "text": []
      },
      {
       "output_type": "stream",
       "stream": "stdout",
       "text": []
      },
      {
       "metadata": {},
       "output_type": "pyout",
       "prompt_number": 18,
       "text": [
        "org.refptr.iscala.display.PlainDisplay$$anon$1@25d9c180"
       ]
      }
     ],
     "prompt_number": 18
    },
    {
     "cell_type": "code",
     "collapsed": false,
     "input": [
      "Nil"
     ],
     "language": "python",
     "metadata": {},
     "outputs": [
      {
       "output_type": "stream",
       "stream": "stdout",
       "text": []
      },
      {
       "output_type": "stream",
       "stream": "stdout",
       "text": []
      },
      {
       "metadata": {},
       "output_type": "pyout",
       "prompt_number": 19,
       "text": [
        "NIL"
       ]
      }
     ],
     "prompt_number": 19
    },
    {
     "cell_type": "code",
     "collapsed": false,
     "input": [
      "import io.continuum.bokeh._"
     ],
     "language": "python",
     "metadata": {},
     "outputs": [
      {
       "output_type": "stream",
       "stream": "stdout",
       "text": []
      },
      {
       "output_type": "stream",
       "stream": "stdout",
       "text": []
      }
     ],
     "prompt_number": 20
    },
    {
     "cell_type": "code",
     "collapsed": false,
     "input": [
      "val resources = Resources.CDN"
     ],
     "language": "python",
     "metadata": {},
     "outputs": [
      {
       "output_type": "stream",
       "stream": "stdout",
       "text": []
      },
      {
       "output_type": "stream",
       "stream": "stdout",
       "text": []
      },
      {
       "metadata": {},
       "output_type": "pyout",
       "prompt_number": 21,
       "text": [
        "CDN"
       ]
      }
     ],
     "prompt_number": 21
    },
    {
     "cell_type": "code",
     "collapsed": false,
     "input": [
      "implicit val HTMLPlot = org.refptr.iscala.display.HTMLDisplay[Plot, xml.NodeSeq] { plot =>\n",
      "    val context = new PlotContext().children(plot :: Nil)\n",
      "    val writer = new HTMLFileWriter(context :: Nil, Some(resources))\n",
      "    writer.renderPlots(writer.specs())\n",
      "}"
     ],
     "language": "python",
     "metadata": {},
     "outputs": [
      {
       "output_type": "stream",
       "stream": "stdout",
       "text": []
      },
      {
       "output_type": "stream",
       "stream": "stdout",
       "text": []
      },
      {
       "metadata": {},
       "output_type": "pyout",
       "prompt_number": 22,
       "text": [
        "org.refptr.iscala.display.HTMLDisplay$$anon$3@74ef63da"
       ]
      }
     ],
     "prompt_number": 22
    },
    {
     "cell_type": "code",
     "collapsed": false,
     "input": [
      "(resources.styles ++ resources.scripts): xml.NodeSeq"
     ],
     "language": "python",
     "metadata": {},
     "outputs": [
      {
       "output_type": "stream",
       "stream": "stdout",
       "text": []
      },
      {
       "output_type": "stream",
       "stream": "stdout",
       "text": []
      },
      {
       "html": [
        "<link rel=\"stylesheet\" href=\"http://cdn.pydata.org/bokeh-0.6.1.min.css\"></link><script type=\"text/javascript\" src=\"http://cdn.pydata.org/bokeh-0.6.1.min.js\"></script>"
       ],
       "metadata": {},
       "output_type": "pyout",
       "prompt_number": 23,
       "text": [
        "NodeSeq(<link rel=\"stylesheet\" href=\"http://cdn.pydata.org/bokeh-0.6.1.min.css\"></link>, <script type=\"text/javascript\" src=\"http://cdn.pydata.org/bokeh-0.6.1.min.js\"></script>)"
       ]
      }
     ],
     "prompt_number": 23
    },
    {
     "cell_type": "code",
     "collapsed": false,
     "input": [
      "import Tools._\n",
      "import math.{Pi=>pi,sin}\n",
      "\n",
      "val x = -2*pi to 2*pi by 0.1\n",
      "val y = x.map(sin)\n",
      "\n",
      "val source = new ColumnDataSource().addColumn('x, x).addColumn('y, y)\n",
      "\n",
      "val xdr = new DataRange1d().sources(source.columns('x) :: Nil)\n",
      "val ydr = new DataRange1d().sources(source.columns('y) :: Nil)\n",
      "\n",
      "val plot = new Plot().x_range(xdr).y_range(ydr).tools(Pan|WheelZoom)\n",
      "\n",
      "val xaxis = new LinearAxis().plot(plot).location(Location.Below)\n",
      "val yaxis = new LinearAxis().plot(plot).location(Location.Left)\n",
      "plot.below <<= (xaxis :: _)\n",
      "plot.left <<= (yaxis :: _)\n",
      "\n",
      "val circle = new Circle().x('x).y('y).size(5).fill_color(Color.Red).line_color(Color.Black)\n",
      "val glyph = new Glyph().data_source(source).glyph(circle)\n",
      "\n",
      "plot.renderers := List(xaxis, yaxis, glyph)"
     ],
     "language": "python",
     "metadata": {},
     "outputs": [
      {
       "output_type": "stream",
       "stream": "stdout",
       "text": []
      },
      {
       "output_type": "stream",
       "stream": "stdout",
       "text": []
      }
     ],
     "prompt_number": 24
    },
    {
     "cell_type": "code",
     "collapsed": false,
     "input": [
      "plot"
     ],
     "language": "python",
     "metadata": {},
     "outputs": [
      {
       "output_type": "stream",
       "stream": "stdout",
       "text": []
      },
      {
       "output_type": "stream",
       "stream": "stdout",
       "text": []
      },
      {
       "html": [
        "<div>\n",
        "                <div class=\"plotdiv\" id=\"c3843aa7-ae98-483f-a20a-23ac4e97a629\">Plots</div>\n",
        "                <script type=\"text/javascript\">\n",
        "            // <![CDATA[\n",
        "            (function() {\n",
        "Bokeh.set_log_level(\"info\")\n",
        "var models = [{\"id\":\"fa0d471d-77ad-49b8-a931-afe4aa6aeca2\",\"type\":\"BasicTickFormatter\",\"attributes\":{\"power_limit_low\":-3,\"power_limit_high\":5,\"use_scientific\":true,\"id\":\"fa0d471d-77ad-49b8-a931-afe4aa6aeca2\"}},{\"id\":\"781aaa1b-ab45-4314-915e-4a60aeac50fc\",\"type\":\"BasicTicker\",\"attributes\":{\"num_minor_ticks\":5,\"id\":\"781aaa1b-ab45-4314-915e-4a60aeac50fc\"}},{\"id\":\"1e67ad89-c471-426b-8d2a-7eef927ad232\",\"type\":\"LinearAxis\",\"attributes\":{\"formatter\":{\"id\":\"fa0d471d-77ad-49b8-a931-afe4aa6aeca2\",\"type\":\"BasicTickFormatter\"},\"ticker\":{\"id\":\"781aaa1b-ab45-4314-915e-4a60aeac50fc\",\"type\":\"BasicTicker\"},\"location\":\"below\",\"y_range_name\":\"default\",\"x_range_name\":\"default\",\"plot\":{\"id\":\"241e7d96-2cc2-445c-baa4-d6f39ae513f2\",\"type\":\"Plot\"},\"id\":\"1e67ad89-c471-426b-8d2a-7eef927ad232\"}},{\"id\":\"2410c9a3-dd9c-4bd5-accf-6f42466adc72\",\"type\":\"BasicTickFormatter\",\"attributes\":{\"power_limit_low\":-3,\"power_limit_high\":5,\"use_scientific\":true,\"id\":\"2410c9a3-dd9c-4bd5-accf-6f42466adc72\"}},{\"id\":\"6bdd7476-182c-496c-a3b3-33289b9f1ced\",\"type\":\"BasicTicker\",\"attributes\":{\"num_minor_ticks\":5,\"id\":\"6bdd7476-182c-496c-a3b3-33289b9f1ced\"}},{\"id\":\"0a8bd52a-cf01-477b-8989-9ac5e0ecb8f1\",\"type\":\"LinearAxis\",\"attributes\":{\"formatter\":{\"id\":\"2410c9a3-dd9c-4bd5-accf-6f42466adc72\",\"type\":\"BasicTickFormatter\"},\"ticker\":{\"id\":\"6bdd7476-182c-496c-a3b3-33289b9f1ced\",\"type\":\"BasicTicker\"},\"location\":\"left\",\"y_range_name\":\"default\",\"x_range_name\":\"default\",\"plot\":{\"id\":\"241e7d96-2cc2-445c-baa4-d6f39ae513f2\",\"type\":\"Plot\"},\"id\":\"0a8bd52a-cf01-477b-8989-9ac5e0ecb8f1\"}},{\"id\":\"df379443-4c0a-43b8-8ce6-19c71dac403f\",\"type\":\"PanTool\",\"attributes\":{\"dimensions\":[\"width\",\"height\"],\"plot\":{\"id\":\"241e7d96-2cc2-445c-baa4-d6f39ae513f2\",\"type\":\"Plot\"},\"id\":\"df379443-4c0a-43b8-8ce6-19c71dac403f\"}},{\"id\":\"5d062acf-6f35-464b-89c8-9a4c1581b24d\",\"type\":\"WheelZoomTool\",\"attributes\":{\"dimensions\":[\"width\",\"height\"],\"plot\":{\"id\":\"241e7d96-2cc2-445c-baa4-d6f39ae513f2\",\"type\":\"Plot\"},\"id\":\"5d062acf-6f35-464b-89c8-9a4c1581b24d\"}},{\"id\":\"56d33ad4-9668-4ab4-b3cd-0895e6868ee7\",\"type\":\"ColumnDataSource\",\"attributes\":{\"data\":{\"x\":[-6.283185307179586,-6.183185307179587,-6.083185307179587,-5.983185307179587,-5.883185307179588,-5.783185307179588,-5.683185307179588,-5.583185307179589,-5.483185307179589,-5.383185307179589,-5.28318530717959,-5.18318530717959,-5.0831853071795905,-4.983185307179591,-4.883185307179591,-4.783185307179592,-4.683185307179592,-4.583185307179592,-4.483185307179593,-4.383185307179593,-4.283185307179593,-4.183185307179594,-4.083185307179594,-3.983185307179594,-3.883185307179594,-3.783185307179594,-3.6831853071795937,-3.5831853071795936,-3.4831853071795935,-3.3831853071795934,-3.2831853071795933,-3.1831853071795932,-3.083185307179593,-2.983185307179593,-2.883185307179593,-2.783185307179593,-2.683185307179593,-2.5831853071795927,-2.4831853071795926,-2.3831853071795925,-2.2831853071795924,-2.1831853071795924,-2.0831853071795923,-1.9831853071795922,-1.883185307179592,-1.783185307179592,-1.683185307179592,-1.5831853071795918,-1.4831853071795917,-1.3831853071795916,-1.2831853071795916,-1.1831853071795915,-1.0831853071795914,-0.9831853071795914,-0.8831853071795914,-0.7831853071795915,-0.6831853071795915,-0.5831853071795915,-0.4831853071795915,-0.38318530717959154,-0.28318530717959156,-0.18318530717959156,-0.08318530717959155,0.016814692820408456,0.11681469282040846,0.21681469282040847,0.31681469282040847,0.4168146928204085,0.5168146928204085,0.6168146928204085,0.7168146928204084,0.8168146928204084,0.9168146928204084,1.0168146928204085,1.1168146928204086,1.2168146928204087,1.3168146928204087,1.4168146928204088,1.516814692820409,1.616814692820409,1.716814692820409,1.8168146928204092,1.9168146928204093,2.016814692820409,2.1168146928204092,2.2168146928204093,2.3168146928204094,2.4168146928204095,2.5168146928204096,2.6168146928204097,2.7168146928204098,2.81681469282041,2.91681469282041,3.01681469282041,3.11681469282041,3.21681469282041,3.3168146928204103,3.4168146928204104,3.5168146928204105,3.6168146928204106,3.7168146928204107,3.8168146928204107,3.916814692820411,4.016814692820411,4.116814692820411,4.21681469282041,4.31681469282041,4.4168146928204095,4.516814692820409,4.616814692820409,4.716814692820408,4.816814692820408,4.916814692820408,5.016814692820407,5.116814692820407,5.216814692820407,5.316814692820406,5.416814692820406,5.516814692820406,5.616814692820405,5.716814692820405,5.8168146928204045,5.916814692820404,6.016814692820404,6.1168146928204035,6.216814692820403],\"y\":[2.4492935982947064E-16,0.09983341664682804,0.19866933079506077,0.29552020666133877,0.3894183423086494,0.4794255386042017,0.5646424733950338,0.6442176872376894,0.7173560908995209,0.7833269096274815,0.8414709848078947,0.8912073600614336,0.9320390859672248,0.9635581854171917,0.9854497299884594,0.9974949866040541,0.9995736030415053,0.9916648104524693,0.9738476308781966,0.9463000876874166,0.9092974268256846,0.8632093666488774,0.8084964038195946,0.7457052121767251,0.6754631805511564,0.5984721441039623,0.5155013718214704,0.4273798802338364,0.33498815015591155,0.2392493292139891,0.141120008059874,0.04158066243329735,-0.05837414342757324,-0.15774569414324188,-0.255541102026825,-0.35078322768961384,-0.4425204432948467,-0.529836140908488,-0.6118578909427143,-0.6877661591839694,-0.7568024953079244,-0.8182771110644071,-0.8715757724135852,-0.9161659367494527,-0.9516020738895142,-0.9775301176650959,-0.9936910036334639,-0.9999232575641008,-0.9961646088358411,-0.9824526126243335,-0.9589242746631399,-0.9258146823277342,-0.8834546557201556,-0.8322674422239039,-0.7727644875559905,-0.7055403255703955,-0.6312666378723252,-0.5506855425976419,-0.4646021794137617,-0.37387666483024107,-0.27941549819893075,-0.18216250427210054,-0.08308940281750163,0.016813900484344824,0.11654920485048827,0.21511998808781058,0.31154136351337336,0.4048499206165936,0.49411335113860394,0.5784397643881958,0.6569865987187853,0.7289690401258726,0.7936678638491499,0.8504366206285618,0.8987080958116246,0.9379999767747372,0.9679196720314852,0.9881682338769997,0.9985433453746048,0.9989413418397722,0.9893582466233825,0.9698898108450873,0.9407305566797743,0.9021718337562955,0.8545989080882829,0.7984871126234928,0.7343970978741159,0.6629692300821858,0.5849171928917655,0.5010208564578883,0.41211848524176,0.31909836234935524,0.22288991410025044,0.12445442350706587,0.024775425453361515,-0.07515112046180601,-0.17432678122297682,-0.2717606264109401,-0.36647912925192494,-0.45753589377531845,-0.5440211108893674,-0.6250706488928802,-0.6998746875935409,-0.7676858097635804,-0.8278264690856518,-0.8796957599716685,-0.9227754216128053,-0.9566350162701869,-0.9809362300664906,-0.995436253306377,-0.9999902065507035,-0.9945525882039897,-0.9791777291513184,-0.9540192499020911,-0.9193285256646784,-0.8754521746884318,-0.8228285949687127,-0.7619835839190378,-0.6935250847771286,-0.61813711223704,-0.5365729180004423,-0.4496474645346092,-0.35822928223683675,-0.263231791365811,-0.16560417544831968,-0.06632189735121108]},\"id\":\"56d33ad4-9668-4ab4-b3cd-0895e6868ee7\"}},{\"id\":\"3e1342ba-1d20-4768-8e4a-be9d5ad22577\",\"type\":\"Glyph\",\"attributes\":{\"y_range_name\":\"default\",\"x_range_name\":\"default\",\"glyphspec\":{\"size\":{\"value\":5.0,\"units\":\"screen\"},\"y\":{\"field\":\"y\",\"units\":\"data\"},\"x\":{\"field\":\"x\",\"units\":\"data\"},\"line_dash_offset\":0,\"line_alpha\":1.0,\"line_width\":1.0,\"line_color\":{\"value\":\"black\"},\"fill_alpha\":1.0,\"fill_color\":{\"value\":\"red\"},\"type\":\"circle\"},\"data_source\":{\"id\":\"56d33ad4-9668-4ab4-b3cd-0895e6868ee7\",\"type\":\"ColumnDataSource\"},\"id\":\"3e1342ba-1d20-4768-8e4a-be9d5ad22577\"}},{\"id\":\"66cc29f7-a0d6-43ff-8d24-d8038443fa4e\",\"type\":\"DataRange1d\",\"attributes\":{\"rangepadding\":0.1,\"sources\":[{\"columns\":[\"y\"],\"source\":{\"id\":\"56d33ad4-9668-4ab4-b3cd-0895e6868ee7\",\"type\":\"ColumnDataSource\"},\"type\":\"ColumnsRef\"}],\"id\":\"66cc29f7-a0d6-43ff-8d24-d8038443fa4e\"}},{\"id\":\"c825d5a4-df04-4b1e-9f2e-76bca2272a67\",\"type\":\"DataRange1d\",\"attributes\":{\"rangepadding\":0.1,\"sources\":[{\"columns\":[\"x\"],\"source\":{\"id\":\"56d33ad4-9668-4ab4-b3cd-0895e6868ee7\",\"type\":\"ColumnDataSource\"},\"type\":\"ColumnsRef\"}],\"id\":\"c825d5a4-df04-4b1e-9f2e-76bca2272a67\"}},{\"id\":\"241e7d96-2cc2-445c-baa4-d6f39ae513f2\",\"type\":\"Plot\",\"attributes\":{\"v_symmetry\":false,\"h_symmetry\":true,\"border_fill\":\"white\",\"background_fill\":\"white\",\"plot_height\":600,\"plot_width\":600,\"toolbar_location\":\"above\",\"below\":[{\"id\":\"1e67ad89-c471-426b-8d2a-7eef927ad232\",\"type\":\"LinearAxis\"}],\"left\":[{\"id\":\"0a8bd52a-cf01-477b-8989-9ac5e0ecb8f1\",\"type\":\"LinearAxis\"}],\"tools\":[{\"id\":\"df379443-4c0a-43b8-8ce6-19c71dac403f\",\"type\":\"PanTool\"},{\"id\":\"5d062acf-6f35-464b-89c8-9a4c1581b24d\",\"type\":\"WheelZoomTool\"}],\"renderers\":[{\"id\":\"1e67ad89-c471-426b-8d2a-7eef927ad232\",\"type\":\"LinearAxis\"},{\"id\":\"0a8bd52a-cf01-477b-8989-9ac5e0ecb8f1\",\"type\":\"LinearAxis\"},{\"id\":\"3e1342ba-1d20-4768-8e4a-be9d5ad22577\",\"type\":\"Glyph\"}],\"y_mapper_type\":\"auto\",\"x_mapper_type\":\"auto\",\"y_range\":{\"id\":\"66cc29f7-a0d6-43ff-8d24-d8038443fa4e\",\"type\":\"DataRange1d\"},\"x_range\":{\"id\":\"c825d5a4-df04-4b1e-9f2e-76bca2272a67\",\"type\":\"DataRange1d\"},\"title\":\"\",\"disabled\":false,\"id\":\"241e7d96-2cc2-445c-baa4-d6f39ae513f2\"}},{\"id\":\"6fa55871-5e13-4fa9-bbfc-63a7de92a138\",\"type\":\"PlotContext\",\"attributes\":{\"children\":[{\"id\":\"241e7d96-2cc2-445c-baa4-d6f39ae513f2\",\"type\":\"Plot\"}],\"id\":\"6fa55871-5e13-4fa9-bbfc-63a7de92a138\"}}];\n",
        "var modelid = \"6fa55871-5e13-4fa9-bbfc-63a7de92a138\";\n",
        "var modeltype = \"PlotContext\";\n",
        "var elementid = \"#c3843aa7-ae98-483f-a20a-23ac4e97a629\";\n",
        "Bokeh.logger.info(\"Realizing plot:\")\n",
        "Bokeh.logger.info(\" - modeltype: \" + modeltype);\n",
        "Bokeh.logger.info(\" - modelid:   \" + modelid);\n",
        "Bokeh.logger.info(\" - elementid: \" + elementid);\n",
        "Bokeh.load_models(models);\n",
        "var model = Bokeh.Collections(modeltype).get(modelid);\n",
        "var view = new model.default_view({model: model, el: elementid});\n",
        "})();\n",
        "            // ]]>\n",
        "            </script>\n",
        "            </div>"
       ],
       "metadata": {},
       "output_type": "pyout",
       "prompt_number": 25,
       "text": [
        "io.continuum.bokeh.Plot@414886cf"
       ]
      }
     ],
     "prompt_number": 25
    },
    {
     "cell_type": "code",
     "collapsed": false,
     "input": [
      "import org.jfree.data.xy.{XYSeries,XYSeriesCollection}\n",
      "import org.jfree.chart.ChartFactory\n",
      "import math.{Pi=>pi,sin}\n",
      "\n",
      "val x = -2*pi to 2*pi by 0.1\n",
      "val y = x.map(sin)\n",
      "\n",
      "val series = new XYSeries(\"sin(x)\")\n",
      "(x zip y).foreach { case (x, y) => series.add(x, y) }\n",
      "\n",
      "val dataset = new XYSeriesCollection()\n",
      "dataset.addSeries(series)\n",
      "\n",
      "val chart = ChartFactory.createXYLineChart(\"y = sin(x)\", \"x\", \"y\", dataset)\n",
      "chart.createBufferedImage(500, 300)"
     ],
     "language": "python",
     "metadata": {},
     "outputs": [
      {
       "output_type": "stream",
       "stream": "stdout",
       "text": []
      },
      {
       "output_type": "stream",
       "stream": "stdout",
       "text": []
      },
      {
       "metadata": {},
       "output_type": "pyout",
       "png": "[encoded data removed]",
       "prompt_number": 26,
       "text": [
        "BufferedImage@76a410c6: type = 2 DirectColorModel: rmask=ff0000 gmask=ff00 bmask=ff amask=ff000000 IntegerInterleavedRaster: width = 500 height = 300 #Bands = 4 xOff = 0 yOff = 0 dataOffset[0] 0"
       ]
      }
     ],
     "prompt_number": 26
    },
    {
     "cell_type": "code",
     "collapsed": false,
     "input": [],
     "language": "python",
     "metadata": {},
     "outputs": [],
     "prompt_number": 26
    }
   ],
   "metadata": {}
  }
 ]
}