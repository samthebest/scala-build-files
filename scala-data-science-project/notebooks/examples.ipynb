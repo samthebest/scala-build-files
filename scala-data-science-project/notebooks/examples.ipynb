{
 "cells": [
  {
   "cell_type": "markdown",
   "metadata": {},
   "source": [
    "# To load a library \n",
    "\n",
    "ensure your .ivy2 cache is up to date by running `sbt update` in whatever scala project has the dependency you want then:"
   ]
  },
  {
   "cell_type": "code",
   "execution_count": 1,
   "metadata": {
    "collapsed": false
   },
   "outputs": [
    {
     "name": "stdout",
     "output_type": "stream",
     "text": [
      ":::: WARNINGS\n"
     ]
    },
    {
     "name": "stderr",
     "output_type": "stream",
     "text": [
      ":: problems summary ::\n",
      ":::: ERRORS\n",
      "\tunknown resolver null\n",
      "\n",
      "\tunknown resolver null\n",
      "\n",
      "\tunknown resolver null\n",
      "\n",
      "\tunknown resolver null\n",
      "\n",
      "\tunknown resolver null\n",
      "\n",
      "\tunknown resolver null\n",
      "\n",
      "\tunknown resolver null\n",
      "\n",
      "\tunknown resolver null\n",
      "\n",
      "\tunknown resolver null\n",
      "\n",
      "\tunknown resolver null\n",
      "\n",
      "\tunknown resolver null\n",
      "\n"
     ]
    },
    {
     "name": "stdout",
     "output_type": "stream",
     "text": [
      "\tUnable to reparse com.github.alexarchambault.jupyter#jupyter-scala-api_2.10.5;0.2.0-SNAPSHOT from sonatype-snapshots, using Sun Oct 25 19:00:40 UTC 2015\n",
      "\n",
      "\tChoosing sonatype-snapshots for com.github.alexarchambault.jupyter#jupyter-scala-api_2.10.5;0.2.0-SNAPSHOT\n",
      "\n",
      "\tUnable to reparse com.github.alexarchambault#ammonite-api_2.10.5;0.3.1-SNAPSHOT from sonatype-snapshots, using Wed Oct 21 10:44:30 UTC 2015\n",
      "\n",
      "\tChoosing sonatype-snapshots for com.github.alexarchambault#ammonite-api_2.10.5;0.3.1-SNAPSHOT\n",
      "\n",
      "\tUnable to reparse com.github.alexarchambault.jupyter#jupyter-api_2.10;0.2.0-SNAPSHOT from sonatype-snapshots, using Wed Oct 21 16:05:05 UTC 2015\n",
      "\n",
      "\tChoosing sonatype-snapshots for com.github.alexarchambault.jupyter#jupyter-api_2.10;0.2.0-SNAPSHOT\n",
      "\n"
     ]
    },
    {
     "data": {
      "text/plain": []
     },
     "metadata": {},
     "output_type": "display_data"
    }
   ],
   "source": [
    "load.ivy(\"com.quantifind\" %% \"wisp\" % \"0.0.4\")"
   ]
  },
  {
   "cell_type": "markdown",
   "metadata": {},
   "source": [
    "# To plot some lines using WISP\n",
    "The following cell will generate two lines.  Unfortunately it won't render the plots here, you have to open the index file (with the host path), also WISP has a bug where you need to remove `location.reload()` from the js or it sits in an infinite loop.\n",
    "\n"
   ]
  },
  {
   "cell_type": "code",
   "execution_count": 2,
   "metadata": {
    "collapsed": false
   },
   "outputs": [
    {
     "name": "stdout",
     "output_type": "stream",
     "text": [
      "serving resources from: file:/root/notebooks/index-1452711886399.html\n"
     ]
    },
    {
     "name": "stderr",
     "output_type": "stream",
     "text": [
      "2016-01-13 19:04:46.639:INFO:oejs.Server:jetty-8.1.13.v20130916\n",
      "2016-01-13 19:04:46.691:INFO:oejs.AbstractConnector:Started SocketConnector@0.0.0.0:58610\n"
     ]
    },
    {
     "name": "stdout",
     "output_type": "stream",
     "text": [
      "Server started: http://aa9dbd3d869d:58610/index-1452711886399.html\n"
     ]
    },
    {
     "name": "stderr",
     "output_type": "stream",
     "text": [
      "Couldn't get a file descriptor referring to the console\n"
     ]
    },
    {
     "name": "stdout",
     "output_type": "stream",
     "text": [
      "Error while opening window (cause: java.io.IOException: Cannot run program \"xdg-open\": error=2, No such file or directory)\n",
      "You can browse the following URL: http://aa9dbd3d869d:58610\n",
      "Output written to http://aa9dbd3d869d:58610 (CMD + Click link in Mac OSX).\n",
      "Output written to http://aa9dbd3d869d:58610 (CMD + Click link in Mac OSX).\n"
     ]
    },
    {
     "data": {
      "text/plain": [
       "\u001b[32mimport \u001b[36mcom.quantifind.charts.Highcharts._\u001b[0m\n",
       "\u001b[36mres1_1\u001b[0m: com.quantifind.charts.highcharts.Highchart = \u001b[33mHighchart\u001b[0m(\n",
       "  List(Series(Vector(Data(1,1,None,None), Data(2,2,None,None), Data(3,3,None,None), Data(4,4,None,None), Data(5,5,None,None), Data(6,6,None,None), Data(7,7,None,None), Data(8,8,None,None), Data(9,9,None,None), Data(10,10,None,None)),None,None,None,Some(line),None,None,None,None,series)),\n",
       "  Some(Title(,None,None,None,None,None,None,None,title)),\n",
       "  Some(Chart(Some(xy))),\n",
       "  None,\n",
       "  Some(Credits(None,,None,None,)),\n",
       "  Some(Exporting(chart,None,None,None,None,None,None)),\n",
       "  None,\n",
       "  Some(PlotOptions(None,None,None,None,None,None,None,None,None,None,None,None,None,None,None,None,None,None,None,None,None,plotOptions)),\n",
       "  None,\n",
       "  true,\n",
       "  None,\n",
       "\u001b[33m...\u001b[0m\n",
       "\u001b[36mres1_2\u001b[0m: com.quantifind.charts.highcharts.Highchart = \u001b[33mHighchart\u001b[0m(\n",
       "  List(Series(List(Data(1,1,None,None), Data(2,2,None,None), Data(3,4,None,None), Data(4,8,None,None), Data(5,15,None,None)),None,None,None,Some(line),None,None,None,None,series)),\n",
       "  Some(Title(,None,None,None,None,None,None,None,title)),\n",
       "  Some(Chart(Some(xy))),\n",
       "  None,\n",
       "  Some(Credits(None,,None,None,)),\n",
       "  Some(Exporting(chart,None,None,None,None,None,None)),\n",
       "  None,\n",
       "  Some(PlotOptions(None,None,None,None,None,None,None,None,None,None,None,None,None,None,None,None,None,None,None,None,None,plotOptions)),\n",
       "  None,\n",
       "  true,\n",
       "  None,\n",
       "  Some([Lcom.quantifind.charts.highcharts.Axis;@2eaac5c0),\n",
       "\u001b[33m...\u001b[0m"
      ]
     },
     "metadata": {},
     "output_type": "display_data"
    }
   ],
   "source": [
    "import com.quantifind.charts.Highcharts._\n",
    "line((1 to 10), (1 to 10))\n",
    "line(List(1, 2, 3, 4, 5), List(1, 2, 4, 8, 15))"
   ]
  },
  {
   "cell_type": "code",
   "execution_count": 1,
   "metadata": {
    "collapsed": false
   },
   "outputs": [
    {
     "ename": "",
     "evalue": "",
     "output_type": "error",
     "traceback": [
      "Compilation Failed",
      "\u001b[31mMain.scala:49: object refptr is not a member of package org",
      "org.refptr.iscala.display.HTMLDisplay[Plot, xml.NodeSeq] { plot =>",
      "    ^\u001b[0m"
     ]
    }
   ],
   "source": [
    "implicit val HTMLPlot = org.refptr.iscala.display.HTMLDisplay[Plot, xml.NodeSeq] { plot =>\n",
    "    val context = new PlotContext().children(plot :: Nil)\n",
    "    val writer = new HTMLFileWriter(context :: Nil, Some(resources))\n",
    "    writer.renderPlots(writer.specs())\n",
    "}"
   ]
  },
  {
   "cell_type": "code",
   "execution_count": null,
   "metadata": {
    "collapsed": true
   },
   "outputs": [],
   "source": []
  }
 ],
 "metadata": {
  "kernelspec": {
   "display_name": "Scala 2.10",
   "language": "scala210",
   "name": "scala210"
  },
  "language_info": {
   "codemirror_mode": "text/x-scala",
   "file_extension": "scala",
   "mimetype": "text/x-scala",
   "name": "scala210",
   "pygments_lexer": "scala",
   "version": "2.10.5"
  }
 },
 "nbformat": 4,
 "nbformat_minor": 0
}
